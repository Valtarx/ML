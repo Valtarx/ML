{
  "nbformat": 4,
  "nbformat_minor": 0,
  "metadata": {
    "colab": {
      "name": "Untitled0.ipynb",
      "provenance": [],
      "authorship_tag": "ABX9TyN3ZHyFQOtMeRd3rdBG7YsZ"
    },
    "kernelspec": {
      "name": "python3",
      "display_name": "Python 3"
    }
  },
  "cells": [
    {
      "cell_type": "code",
      "metadata": {
        "id": "0jEKVBB9Cnad"
      },
      "source": [
        "лол\r\n"
      ],
      "execution_count": null,
      "outputs": []
    }
  ]
}